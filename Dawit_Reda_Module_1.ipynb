{
 "cells": [
  {
   "cell_type": "raw",
   "metadata": {},
   "source": [
    "Dawit Reda\n",
    "ID#10189420\n",
    "Module 1 Data Access and Extraction Fundamentals\n",
    "MCIS 535 - Data Access and Transformation\n",
    "Submitted to Dr. Daniel Wu"
   ]
  },
  {
   "cell_type": "markdown",
   "metadata": {},
   "source": [
    "# Requirements"
   ]
  },
  {
   "cell_type": "raw",
   "metadata": {},
   "source": [
    "1.The file to be imported should be passed as a parameter to a function which evaluates what type the importing file is based on its extension and invokes proper function to import the file.\n",
    "2.There are should have four functions, each of which imports either a CSV, JSON, XML, or Excel file.\n",
    "3.There should be function(s) to process data from the imported file. You may show some statistics or output some sample data.\n",
    "4.You should use RELATIVE file path (not ABSOLUTE/FULL PATH) when importing a file.\n",
    "5.You may choose any data files but you should include ONLY sample files (meaning files of small size) for submission purpose.\n",
    "6.Your submission should include both your code (.py) and your data files.\n",
    "7.Be sure to debug your program thoroughly. Any error when executing your code will incur significant penalty."
   ]
  },
  {
   "cell_type": "code",
   "execution_count": 49,
   "metadata": {},
   "outputs": [],
   "source": [
    "#import all important libraries \n",
    "from tabulate import tabulate\n",
    "import pathlib\n",
    "import pandas as pd\n",
    "import csv\n",
    "import json\n",
    "import xml.etree.ElementTree as ET"
   ]
  },
  {
   "cell_type": "code",
   "execution_count": 50,
   "metadata": {},
   "outputs": [],
   "source": [
    "#import csv file\n",
    "def Import_Csv_file(file):\n",
    "    data = pd.read_csv(file)\n",
    "    #sort and print top 5 of the data\n",
    "    sorted_data = data.sort_values(by=['Price']).head()\n",
    "    #print out in the tabulate format\n",
    "    print(tabulate(sorted_data))    "
   ]
  },
  {
   "cell_type": "code",
   "execution_count": 51,
   "metadata": {},
   "outputs": [],
   "source": [
    "#import json file\n",
    "def Import_JSON_file(file):\n",
    "    with open(file) as json_file:\n",
    "        data = json.load(json_file) \n",
    "        #print out the properties and basics\n",
    "        print(data['properties']['basics'])  "
   ]
  },
  {
   "cell_type": "code",
   "execution_count": 52,
   "metadata": {},
   "outputs": [],
   "source": [
    "#import xml file\n",
    "def Import_Xml_file(file):    \n",
    "    #read in the file with ElementTree.\n",
    "    tree = ET.parse(file)\n",
    "    root = tree.getroot()\n",
    "    for child in root:\n",
    "        #print the child tag and attribute\n",
    "        print(child.tag, child.attrib)"
   ]
  },
  {
   "cell_type": "code",
   "execution_count": 53,
   "metadata": {},
   "outputs": [],
   "source": [
    "#import excel file\n",
    "def Import_Excel_file(file):\n",
    "    df = pd.read_excel(file)\n",
    "    print(tabulate(df.head()))   "
   ]
  },
  {
   "cell_type": "code",
   "execution_count": 54,
   "metadata": {},
   "outputs": [],
   "source": [
    "#a method that takes any file type and invoke the right method to import and process the file\n",
    "def File_type(file):\n",
    "    #extract the extension of the file\n",
    "    extension_file = pathlib.Path(file).suffix\n",
    "    #print out the extension of the file\n",
    "    print('The extension of the imported file is: ', extension_file)\n",
    "    \n",
    "    if extension_file == '.csv':\n",
    "        Import_Csv_file(file)\n",
    "       \n",
    "    elif extension_file == '.json':\n",
    "        Import_JSON_file(file)\n",
    "        \n",
    "    elif extension_file == '.xml':\n",
    "        Import_Xml_file(file)\n",
    "        \n",
    "    elif extension_file == '.xlsx':\n",
    "        Import_Excel_file(file)\n",
    "        \n",
    "    else:\n",
    "        print('the input file is not CSV, JSON, XML or Excel file')    "
   ]
  },
  {
   "cell_type": "markdown",
   "metadata": {},
   "source": [
    "# CSV"
   ]
  },
  {
   "cell_type": "code",
   "execution_count": 55,
   "metadata": {},
   "outputs": [
    {
     "name": "stdout",
     "output_type": "stream",
     "text": [
      "The extension of the imported file is:  .csv\n",
      "---  ----  ----------  -----------------  ------------\n",
      "  0  1200  Mastercard  carolina           Basildon\n",
      "119  1200  Amex        Maria and Timothy  Fountain Hls\n",
      "120  1200  Visa        IMAN               Brisbane\n",
      "122  1200  Mastercard  Annelies           Ile-Perrot\n",
      "123  1200  Amex        Jocelyn            Bruxelles\n",
      "---  ----  ----------  -----------------  ------------\n"
     ]
    }
   ],
   "source": [
    "#import csv file from local \n",
    "csv_file_path = \"Module_1.csv\"\n",
    "#invoke the function and the file_type will invoke the right function based on the extension\n",
    "File_type(csv_file_path)"
   ]
  },
  {
   "cell_type": "markdown",
   "metadata": {},
   "source": [
    "# JSON"
   ]
  },
  {
   "cell_type": "code",
   "execution_count": 56,
   "metadata": {},
   "outputs": [
    {
     "name": "stdout",
     "output_type": "stream",
     "text": [
      "The extension of the imported file is:  .json\n",
      "{'type': 'object', 'additionalProperties': True, 'properties': {'name': {'type': 'string'}, 'label': {'type': 'string', 'description': 'e.g. Web Developer'}, 'picture': {'type': 'string', 'description': 'URL (as per RFC 3986) to a picture in JPEG or PNG format'}, 'email': {'type': 'string', 'description': 'e.g. thomas@gmail.com', 'format': 'email'}, 'phone': {'type': 'string', 'description': 'Phone numbers are stored as strings so use any format you like, e.g. 712-117-2923'}, 'url': {'type': 'string', 'description': 'URL (as per RFC 3986) to your website, e.g. personal homepage', 'format': 'uri'}, 'summary': {'type': 'string', 'description': 'Write a short 2-3 sentence biography about yourself'}, 'location': {'type': 'object', 'additionalProperties': True, 'properties': {'address': {'type': 'string', 'description': 'To add multiple address lines, use \\n. For example, 1234 GlÃ¼cklichkeit StraÃŸe\\nHinterhaus 5. Etage li.'}, 'postalCode': {'type': 'string'}, 'city': {'type': 'string'}, 'countryCode': {'type': 'string', 'description': 'code as per ISO-3166-1 ALPHA-2, e.g. US, AU, IN'}, 'region': {'type': 'string', 'description': 'The general region where you live. Can be a US state, or a province, for instance.'}}}, 'profiles': {'type': 'array', 'description': 'Specify any number of social networks that you participate in', 'additionalItems': False, 'items': {'type': 'object', 'additionalProperties': True, 'properties': {'network': {'type': 'string', 'description': 'e.g. Facebook or Twitter'}, 'username': {'type': 'string', 'description': 'e.g. neutralthoughts'}, 'url': {'type': 'string', 'description': 'e.g. http://twitter.com/neutralthoughts'}}}}}}\n"
     ]
    }
   ],
   "source": [
    "#import json file from local \n",
    "json_file ='Module_1.json'\n",
    "File_type(json_file)  "
   ]
  },
  {
   "cell_type": "markdown",
   "metadata": {},
   "source": [
    "# XML"
   ]
  },
  {
   "cell_type": "code",
   "execution_count": 57,
   "metadata": {},
   "outputs": [
    {
     "name": "stdout",
     "output_type": "stream",
     "text": [
      "The extension of the imported file is:  .xml\n",
      "customer {'name': 'gokhan'}\n",
      "customer {'name': 'mike'}\n",
      "customer {'name': 'john'}\n",
      "customer {'name': 'david'}\n"
     ]
    }
   ],
   "source": [
    "#import xml file from local \n",
    "xml_file = 'Module_1.xml'\n",
    "File_type(xml_file) "
   ]
  },
  {
   "cell_type": "markdown",
   "metadata": {},
   "source": [
    "# Excel"
   ]
  },
  {
   "cell_type": "code",
   "execution_count": 58,
   "metadata": {},
   "outputs": [
    {
     "name": "stdout",
     "output_type": "stream",
     "text": [
      "The extension of the imported file is:  .xlsx\n",
      "-  -------------------  ----------  ---  ------------------------------------------------------------------\n",
      "0  2019-06-04 00:00:00  6PM - 12PM    5  fixed the calendar print issue and deployed\n",
      "1  2019-06-05 00:00:00  6PM - 12PM    4  Make editable ALL texts in poster\n",
      "2  2019-06-06 00:00:00  6PM - 12PM    3  Finalized to make editable ALL texts in poster tested and deployed\n",
      "3  2019-06-07 00:00:00  6PM - 12PM    5  Mobile App release plan and designing responsive Mobile app\n",
      "4  2019-06-08 00:00:00  6PM - 12PM  nan  nan\n",
      "-  -------------------  ----------  ---  ------------------------------------------------------------------\n"
     ]
    }
   ],
   "source": [
    "#import excel file from local \n",
    "excel_file ='Module_1.xlsx'\n",
    "File_type(excel_file) \n"
   ]
  },
  {
   "cell_type": "code",
   "execution_count": 59,
   "metadata": {},
   "outputs": [
    {
     "name": "stdout",
     "output_type": "stream",
     "text": [
      "The extension of the imported file is:  .xls\n",
      "the input file is not CSV, JSON, XML or Excel file\n"
     ]
    }
   ],
   "source": [
    "#when a wrong extension file  imported\n",
    "File_type('mylist.xls')"
   ]
  }
 ],
 "metadata": {
  "kernelspec": {
   "display_name": "Python 3",
   "language": "python",
   "name": "python3"
  },
  "language_info": {
   "codemirror_mode": {
    "name": "ipython",
    "version": 3
   },
   "file_extension": ".py",
   "mimetype": "text/x-python",
   "name": "python",
   "nbconvert_exporter": "python",
   "pygments_lexer": "ipython3",
   "version": "3.7.1"
  }
 },
 "nbformat": 4,
 "nbformat_minor": 2
}
