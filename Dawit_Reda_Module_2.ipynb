{
 "cells": [
  {
   "cell_type": "markdown",
   "metadata": {},
   "source": [
    "Dawit Reda\n",
    "ID#10189420\n",
    "Module 2 Acquiring and Storing Data\n",
    "MCIS 535 - Data Access and Transformation\n",
    "Submitted to Dr. Daniel Wu"
   ]
  },
  {
   "cell_type": "markdown",
   "metadata": {},
   "source": [
    "# Requirements"
   ]
  },
  {
   "cell_type": "markdown",
   "metadata": {},
   "source": [
    "You should have installed MySQL and MongoDB. Write a Python program to import a data file (reference Module 1 if needed) \n",
    "and store the imported data to either MySQL or MongoDB. Your program should also show results from querying the stored data \n",
    "from your database. Make sure that\n",
    "1) you debug your code thoroughly and \n",
    "2) include both .py file and data file."
   ]
  },
  {
   "cell_type": "code",
   "execution_count": 50,
   "metadata": {},
   "outputs": [],
   "source": [
    "#import all important libraries \n",
    "from tabulate import tabulate\n",
    "import pathlib\n",
    "import pandas as pd\n",
    "import csv\n",
    "import MySQLdb\n",
    "import json\n",
    "import xml.etree.ElementTree as ET\n",
    "import mysql.connector\n",
    "from mysql.connector import errorcode\n",
    "import xlrd\n",
    "from openpyxl import  load_workbook\n",
    "import re\n",
    "from lxml import etree\n",
    "import pymysql, os"
   ]
  },
  {
   "cell_type": "markdown",
   "metadata": {},
   "source": [
    "# Import CSV file to MYSQL"
   ]
  },
  {
   "cell_type": "code",
   "execution_count": 51,
   "metadata": {},
   "outputs": [
    {
     "data": {
      "text/plain": [
       "(<mysql.connector.cursor_cext.CMySQLCursorBuffered at 0x1a043edb668>,\n",
       " <mysql.connector.connection_cext.CMySQLConnection at 0x1a043edb3c8>)"
      ]
     },
     "execution_count": 51,
     "metadata": {},
     "output_type": "execute_result"
    }
   ],
   "source": [
    "#establish the database connection method\n",
    "#create try - catch to catch all errors using the errors.Error exception\n",
    "def connect_to_mysql():\n",
    "    \n",
    "    try:\n",
    "        con = mysql.connector.connect(host='127.0.0.1', user='root', passwd='password')\n",
    "        \n",
    "        db_cursor = con.cursor(buffered=True)\n",
    "\n",
    "        #create a database\n",
    "        db_cursor.execute('CREATE DATABASE IF NOT EXISTS Dawit_module_2')\n",
    "    except mysql.connector.Error as err:\n",
    "        if err.errno == errorcode.ER_ACCESS_DENIED_ERROR:\n",
    "            print(\"Error with user name or password\")\n",
    "        elif err.errno == errorcode.ER_BAD_DB_ERROR:\n",
    "            print(\"Database does not exist or database name Error\")\n",
    "        else:\n",
    "            print(err)\n",
    "    \n",
    "    return db_cursor, con\n",
    "\n",
    "\n",
    "connect_to_mysql()"
   ]
  },
  {
   "cell_type": "code",
   "execution_count": 52,
   "metadata": {},
   "outputs": [
    {
     "name": "stdout",
     "output_type": "stream",
     "text": [
      "('dawit_module_2',)\n",
      "('information_schema',)\n",
      "('my_first_db',)\n",
      "('mysql',)\n",
      "('performance_schema',)\n",
      "('sakila',)\n",
      "('sys',)\n",
      "('world',)\n"
     ]
    }
   ],
   "source": [
    "#show all tables - and check if the database was created\n",
    "def check_databases():\n",
    "    cur, conn = connect_to_mysql()\n",
    "   \n",
    "    #show all databses \n",
    "    cur.execute(\"SHOW DATABASES\")\n",
    "    for x in cur:\n",
    "        print(x)\n",
    "            \n",
    "            \n",
    "check_databases()"
   ]
  },
  {
   "cell_type": "markdown",
   "metadata": {},
   "source": [
    "Create a Tables to store data"
   ]
  },
  {
   "cell_type": "code",
   "execution_count": 53,
   "metadata": {},
   "outputs": [
    {
     "name": "stdout",
     "output_type": "stream",
     "text": [
      "Tables Created\n"
     ]
    }
   ],
   "source": [
    "#create a table to stor the data\n",
    "def create_tables():\n",
    "    mycursor, conn = connect_to_mysql()\n",
    "    conn.connect(database=\"dawit_module_2\")\n",
    "    \n",
    "    #table to import csv file\n",
    "    mycursor.execute('CREATE Table IF NOT EXISTS Payments (id INT AUTO_INCREMENT PRIMARY KEY,Price INT,Payment_Type VARCHAR(255), Name VARCHAR(255) ,City VARCHAR(255))')\n",
    "    \n",
    "    #create table to import excel file\n",
    "    mycursor.execute('CREATE Table IF NOT EXISTS Customers (id INT AUTO_INCREMENT PRIMARY KEY,First_Name VARCHAR(255), Last_Name VARCHAR(255) , Gender VARCHAR(255),Country VARCHAR(255),Age INT,ID_number INT)') \n",
    "    #create table to import xml file\n",
    "    mycursor.execute('CREATE Table IF NOT EXISTS XMLData (id INT AUTO_INCREMENT PRIMARY KEY, customer_name varchar(255), customer_Id varchar(255), phone varchar(255), email varchar(255), address varchar(255))')\n",
    "    #create table to import JSON file\n",
    "    mycursor.execute('CREATE TABLE IF NOT EXISTS JsonFile( id int auto_increment primary key, name varchar(255), Version varchar(255), Install varchar(255),Owner varchar(255),Kernel varchar(255) )')\n",
    "\n",
    "    #mycursor.execute('CREATE Table IF NOT EXISTS JsonData()\n",
    "    print('Tables Created')\n",
    "create_tables()   "
   ]
  },
  {
   "cell_type": "code",
   "execution_count": 54,
   "metadata": {},
   "outputs": [
    {
     "name": "stdout",
     "output_type": "stream",
     "text": [
      "File loaded\n"
     ]
    }
   ],
   "source": [
    "#Load CSV data into MySQL\n",
    "def load_CSV_to_MYSQL():\n",
    "    with open('Module_1.csv') as csvfile:\n",
    "        reader = csv.DictReader(csvfile, delimiter = ',')\n",
    "        for row in reader:\n",
    "            #make connection to database\n",
    "            cur, conn = connect_to_mysql()\n",
    "            #select database\n",
    "            conn.connect(database=\"dawit_module_2\")\n",
    "            # insert data\n",
    "            sql_statement = 'INSERT INTO Payments(Price,Payment_Type, Name, City ) VALUES (%s,%s,%s,%s)'\n",
    "            #excute the sql statments\n",
    "            cur.executemany(sql_statement,[(row['Price'], row['Payment_Type'], row['Name'], row['City'])])\n",
    "            #conn.escape_string(sql_statement)\n",
    "            conn.commit()\n",
    "        print('File loaded')\n",
    "            \n",
    "            \n",
    "load_CSV_to_MYSQL()"
   ]
  },
  {
   "cell_type": "code",
   "execution_count": 55,
   "metadata": {},
   "outputs": [
    {
     "data": {
      "text/html": [
       "<div>\n",
       "<style scoped>\n",
       "    .dataframe tbody tr th:only-of-type {\n",
       "        vertical-align: middle;\n",
       "    }\n",
       "\n",
       "    .dataframe tbody tr th {\n",
       "        vertical-align: top;\n",
       "    }\n",
       "\n",
       "    .dataframe thead th {\n",
       "        text-align: right;\n",
       "    }\n",
       "</style>\n",
       "<table border=\"1\" class=\"dataframe\">\n",
       "  <thead>\n",
       "    <tr style=\"text-align: right;\">\n",
       "      <th></th>\n",
       "      <th>id</th>\n",
       "      <th>Price</th>\n",
       "      <th>Payment_Type</th>\n",
       "      <th>Name</th>\n",
       "      <th>City</th>\n",
       "    </tr>\n",
       "  </thead>\n",
       "  <tbody>\n",
       "    <tr>\n",
       "      <th>0</th>\n",
       "      <td>2</td>\n",
       "      <td>1200</td>\n",
       "      <td>Mastercard</td>\n",
       "      <td>carolina</td>\n",
       "      <td>Basildon</td>\n",
       "    </tr>\n",
       "    <tr>\n",
       "      <th>1</th>\n",
       "      <td>3</td>\n",
       "      <td>1200</td>\n",
       "      <td>Visa</td>\n",
       "      <td>Betina</td>\n",
       "      <td>Parkville</td>\n",
       "    </tr>\n",
       "    <tr>\n",
       "      <th>2</th>\n",
       "      <td>4</td>\n",
       "      <td>1200</td>\n",
       "      <td>Mastercard</td>\n",
       "      <td>Federica e Andrea</td>\n",
       "      <td>Astoria</td>\n",
       "    </tr>\n",
       "    <tr>\n",
       "      <th>3</th>\n",
       "      <td>5</td>\n",
       "      <td>1200</td>\n",
       "      <td>Visa</td>\n",
       "      <td>Gouya</td>\n",
       "      <td>Echuca</td>\n",
       "    </tr>\n",
       "    <tr>\n",
       "      <th>4</th>\n",
       "      <td>6</td>\n",
       "      <td>3600</td>\n",
       "      <td>Visa</td>\n",
       "      <td>Gerd W</td>\n",
       "      <td>Cahaba Heights</td>\n",
       "    </tr>\n",
       "  </tbody>\n",
       "</table>\n",
       "</div>"
      ],
      "text/plain": [
       "   id  Price Payment_Type               Name                          City\n",
       "0   2   1200   Mastercard           carolina                      Basildon\n",
       "1   3   1200         Visa             Betina  Parkville                   \n",
       "2   4   1200   Mastercard  Federica e Andrea  Astoria                     \n",
       "3   5   1200         Visa              Gouya                        Echuca\n",
       "4   6   3600         Visa            Gerd W   Cahaba Heights              "
      ]
     },
     "execution_count": 55,
     "metadata": {},
     "output_type": "execute_result"
    }
   ],
   "source": [
    "#read csv file from MYSQL database\n",
    "def read_csv_file_from_MYSQL():\n",
    "    #make connection to database\n",
    "    cur, conn = connect_to_mysql()\n",
    "    #select database\n",
    "    conn.connect(database=\"dawit_module_2\")\n",
    "    #select all rows from the payment database\n",
    "    select_statment = \"\"\" SELECT * FROM dawit_module_2.payments;\"\"\"\n",
    "    df =pd.read_sql(select_statment, con=conn)\n",
    "    return df\n",
    "read_csv_file_from_MYSQL().head()"
   ]
  },
  {
   "cell_type": "markdown",
   "metadata": {},
   "source": [
    "# Import Excel file to MYSQL"
   ]
  },
  {
   "cell_type": "code",
   "execution_count": 56,
   "metadata": {},
   "outputs": [
    {
     "name": "stdout",
     "output_type": "stream",
     "text": [
      "Done\n"
     ]
    }
   ],
   "source": [
    "#Load excel data into MySQL\n",
    "def load_Excelfile_to_MYSQL():\n",
    "    #make connection to database\n",
    "  \n",
    "    cur, conn = connect_to_mysql()\n",
    "    #select database\n",
    "    conn.connect(database=\"dawit_module_2\")\n",
    "    # insert data\n",
    "    book = xlrd.open_workbook('Module_1.xlsx')\n",
    "    sheet = book.sheet_by_name('customer')\n",
    "    rows = sheet.nrows\n",
    "    sql_statement = \"\"\"INSERT INTO Customers (First_Name, Last_Name , Gender,Country ,Age ,ID_number)\n",
    "    VALUES (%s,%s,%s,%s,%s,%s)\"\"\"\n",
    "    \n",
    "    for a in range(1, rows):\n",
    "        First_Name = sheet.cell(a,0).value\n",
    "        Last_Name = sheet.cell(a,1).value\n",
    "        Gender = sheet.cell(a,2).value\n",
    "        Country = sheet.cell(a,3).value\n",
    "        Age = sheet.cell(a,4).value\n",
    "        ID_number = sheet.cell(a,5).value\n",
    "        \n",
    "        values = (First_Name, Last_Name , Gender,Country ,Age ,ID_number)\n",
    "        \n",
    "        cur.execute(sql_statement,values)\n",
    "    cur.close()\n",
    "    conn.commit()\n",
    "    print('Done')\n",
    "    \n",
    "   \n",
    "        \n",
    " #load the data into MYSQl   \n",
    "load_Excelfile_to_MYSQL()    "
   ]
  },
  {
   "cell_type": "code",
   "execution_count": 57,
   "metadata": {},
   "outputs": [
    {
     "data": {
      "text/html": [
       "<div>\n",
       "<style scoped>\n",
       "    .dataframe tbody tr th:only-of-type {\n",
       "        vertical-align: middle;\n",
       "    }\n",
       "\n",
       "    .dataframe tbody tr th {\n",
       "        vertical-align: top;\n",
       "    }\n",
       "\n",
       "    .dataframe thead th {\n",
       "        text-align: right;\n",
       "    }\n",
       "</style>\n",
       "<table border=\"1\" class=\"dataframe\">\n",
       "  <thead>\n",
       "    <tr style=\"text-align: right;\">\n",
       "      <th></th>\n",
       "      <th>id</th>\n",
       "      <th>First_Name</th>\n",
       "      <th>Last_Name</th>\n",
       "      <th>Gender</th>\n",
       "      <th>Country</th>\n",
       "      <th>Age</th>\n",
       "      <th>ID_number</th>\n",
       "    </tr>\n",
       "  </thead>\n",
       "  <tbody>\n",
       "    <tr>\n",
       "      <th>0</th>\n",
       "      <td>10</td>\n",
       "      <td>Dulce</td>\n",
       "      <td>Abril</td>\n",
       "      <td>Female</td>\n",
       "      <td>United States</td>\n",
       "      <td>32</td>\n",
       "      <td>1562</td>\n",
       "    </tr>\n",
       "    <tr>\n",
       "      <th>1</th>\n",
       "      <td>11</td>\n",
       "      <td>Mara</td>\n",
       "      <td>Hashimoto</td>\n",
       "      <td>Female</td>\n",
       "      <td>Great Britain</td>\n",
       "      <td>25</td>\n",
       "      <td>1582</td>\n",
       "    </tr>\n",
       "    <tr>\n",
       "      <th>2</th>\n",
       "      <td>12</td>\n",
       "      <td>Philip</td>\n",
       "      <td>Gent</td>\n",
       "      <td>Male</td>\n",
       "      <td>France</td>\n",
       "      <td>36</td>\n",
       "      <td>2587</td>\n",
       "    </tr>\n",
       "    <tr>\n",
       "      <th>3</th>\n",
       "      <td>13</td>\n",
       "      <td>Kathleen</td>\n",
       "      <td>Hanner</td>\n",
       "      <td>Female</td>\n",
       "      <td>United States</td>\n",
       "      <td>25</td>\n",
       "      <td>3549</td>\n",
       "    </tr>\n",
       "    <tr>\n",
       "      <th>4</th>\n",
       "      <td>14</td>\n",
       "      <td>Nereida</td>\n",
       "      <td>Magwood</td>\n",
       "      <td>Female</td>\n",
       "      <td>United States</td>\n",
       "      <td>58</td>\n",
       "      <td>2468</td>\n",
       "    </tr>\n",
       "  </tbody>\n",
       "</table>\n",
       "</div>"
      ],
      "text/plain": [
       "   id First_Name  Last_Name  Gender        Country  Age  ID_number\n",
       "0  10      Dulce      Abril  Female  United States   32       1562\n",
       "1  11       Mara  Hashimoto  Female  Great Britain   25       1582\n",
       "2  12     Philip       Gent    Male         France   36       2587\n",
       "3  13   Kathleen     Hanner  Female  United States   25       3549\n",
       "4  14    Nereida    Magwood  Female  United States   58       2468"
      ]
     },
     "execution_count": 57,
     "metadata": {},
     "output_type": "execute_result"
    }
   ],
   "source": [
    "#read data from mysql using python\n",
    "def read_Excelfile_from_MYSQL():\n",
    "\n",
    "    #make connection to database\n",
    "    cur, conn = connect_to_mysql()\n",
    "    #select database\n",
    "    conn.connect(database=\"dawit_module_2\")\n",
    "    #select all rows from the payment database\n",
    "    select_statment = \"\"\" SELECT * FROM dawit_module_2.customers;\"\"\"\n",
    "    df =pd.read_sql(select_statment, con=conn)\n",
    "    \n",
    "    return df\n",
    "\n",
    "read_Excelfile_from_MYSQL().head()"
   ]
  },
  {
   "cell_type": "markdown",
   "metadata": {},
   "source": [
    "# Import XML file to MYSQL"
   ]
  },
  {
   "cell_type": "code",
   "execution_count": 58,
   "metadata": {},
   "outputs": [
    {
     "name": "stdout",
     "output_type": "stream",
     "text": [
      "Done\n"
     ]
    }
   ],
   "source": [
    "#Load xml data into MySQL\n",
    "def load_XML_to_MYSQL(file):\n",
    "    #make connection to database\n",
    "    cur, conn = connect_to_mysql()\n",
    "    #select database\n",
    "    conn.connect(database=\"dawit_module_2\")\n",
    "    # insert data\n",
    "    sql_statement = \"\"\"INSERT INTO XMLData (customer_name, customer_Id , phone,email,address )\n",
    "    VALUES (%s,%s,%s,%s,%s)\"\"\" \n",
    "    \n",
    "    document = etree.parse(file)\n",
    "    for parent in document.findall('customer'):\n",
    "             \n",
    "        customer_name = parent.get('name')\n",
    "        customer_Id = parent.find('ID').text\n",
    "        phone =parent.find('phone').text\n",
    "        email = parent.find('email').text\n",
    "        address = parent.find('address').text\n",
    "\n",
    "        values = (customer_name, customer_Id , phone,email,address )\n",
    "        \n",
    "        cur.execute(sql_statement,values)\n",
    "        \n",
    "    cur.close()\n",
    "    conn.commit()\n",
    "    print('Done')\n",
    "  \n",
    "load_XML_to_MYSQL('Module_1.xml')"
   ]
  },
  {
   "cell_type": "code",
   "execution_count": 59,
   "metadata": {},
   "outputs": [
    {
     "data": {
      "text/html": [
       "<div>\n",
       "<style scoped>\n",
       "    .dataframe tbody tr th:only-of-type {\n",
       "        vertical-align: middle;\n",
       "    }\n",
       "\n",
       "    .dataframe tbody tr th {\n",
       "        vertical-align: top;\n",
       "    }\n",
       "\n",
       "    .dataframe thead th {\n",
       "        text-align: right;\n",
       "    }\n",
       "</style>\n",
       "<table border=\"1\" class=\"dataframe\">\n",
       "  <thead>\n",
       "    <tr style=\"text-align: right;\">\n",
       "      <th></th>\n",
       "      <th>id</th>\n",
       "      <th>customer_name</th>\n",
       "      <th>customer_Id</th>\n",
       "      <th>phone</th>\n",
       "      <th>email</th>\n",
       "      <th>address</th>\n",
       "    </tr>\n",
       "  </thead>\n",
       "  <tbody>\n",
       "    <tr>\n",
       "      <th>0</th>\n",
       "      <td>1</td>\n",
       "      <td>gokhan</td>\n",
       "      <td>1423</td>\n",
       "      <td>555-1234</td>\n",
       "      <td>gokhan@gmail.com</td>\n",
       "      <td>Gorman Avenue</td>\n",
       "    </tr>\n",
       "    <tr>\n",
       "      <th>1</th>\n",
       "      <td>2</td>\n",
       "      <td>mike</td>\n",
       "      <td>6423</td>\n",
       "      <td>555-6472</td>\n",
       "      <td>mike@gmail.com</td>\n",
       "      <td>Avent ferry Avenue</td>\n",
       "    </tr>\n",
       "    <tr>\n",
       "      <th>2</th>\n",
       "      <td>3</td>\n",
       "      <td>john</td>\n",
       "      <td>3323</td>\n",
       "      <td>555-4567</td>\n",
       "      <td>john@gmail.com</td>\n",
       "      <td>Varsity Avenue</td>\n",
       "    </tr>\n",
       "    <tr>\n",
       "      <th>3</th>\n",
       "      <td>4</td>\n",
       "      <td>david</td>\n",
       "      <td>1343</td>\n",
       "      <td>555-6472</td>\n",
       "      <td>dawit@gmail.com</td>\n",
       "      <td>Fifth Avenue</td>\n",
       "    </tr>\n",
       "    <tr>\n",
       "      <th>4</th>\n",
       "      <td>5</td>\n",
       "      <td>gokhan</td>\n",
       "      <td>1423</td>\n",
       "      <td>555-1234</td>\n",
       "      <td>gokhan@gmail.com</td>\n",
       "      <td>Gorman Avenue</td>\n",
       "    </tr>\n",
       "  </tbody>\n",
       "</table>\n",
       "</div>"
      ],
      "text/plain": [
       "   id customer_name customer_Id     phone             email  \\\n",
       "0   1        gokhan        1423  555-1234  gokhan@gmail.com   \n",
       "1   2          mike        6423  555-6472    mike@gmail.com   \n",
       "2   3          john        3323  555-4567    john@gmail.com   \n",
       "3   4         david        1343  555-6472   dawit@gmail.com   \n",
       "4   5        gokhan        1423  555-1234  gokhan@gmail.com   \n",
       "\n",
       "              address  \n",
       "0       Gorman Avenue  \n",
       "1  Avent ferry Avenue  \n",
       "2      Varsity Avenue  \n",
       "3        Fifth Avenue  \n",
       "4       Gorman Avenue  "
      ]
     },
     "execution_count": 59,
     "metadata": {},
     "output_type": "execute_result"
    }
   ],
   "source": [
    "#read xml data from mysql using python\n",
    "def read_xmlData_from_MYSQL():\n",
    "\n",
    "    #make connection to database\n",
    "    cur, conn = connect_to_mysql()\n",
    "    #select database\n",
    "    conn.connect(database=\"dawit_module_2\")\n",
    "    #select all rows from the xmldata database\n",
    "    select_statment = \"\"\" SELECT * FROM dawit_module_2.xmldata;\"\"\"\n",
    "    df =pd.read_sql(select_statment, con=conn)\n",
    "    \n",
    "    return df\n",
    "#read the top 5 of the xml data\n",
    "read_xmlData_from_MYSQL().head()"
   ]
  },
  {
   "cell_type": "markdown",
   "metadata": {},
   "source": [
    "# Import JSON file to MYSQL"
   ]
  },
  {
   "cell_type": "code",
   "execution_count": 60,
   "metadata": {},
   "outputs": [
    {
     "name": "stdout",
     "output_type": "stream",
     "text": [
      "Done\n"
     ]
    }
   ],
   "source": [
    "#Load JSON data into MySQL\n",
    "def load_JSON_to_MYSQL():\n",
    "    #make connection to database\n",
    "  \n",
    "    cur, conn = connect_to_mysql()\n",
    "    #select database\n",
    "    conn.connect(database=\"dawit_module_2\")\n",
    "    # insert data\n",
    "    sql_statement = \"\"\"INSERT INTO JsonFile (name, Version , Install,Owner,Kernel )\n",
    "    VALUES (%s,%s,%s,%s,%s)\"\"\" \n",
    "    \n",
    "    # read JSON file which is in the next parent folder\n",
    "    file = os.path.abspath('module_1.json')\n",
    "    json_data=open(file).read()\n",
    "    json_object = json.loads(json_data)\n",
    "    json_files = []\n",
    "    for a in json_object:\n",
    "        name = a['Name']\n",
    "        Version = a['Version']\n",
    "        Install = a['Install']\n",
    "        Owner = a['Owner']\n",
    "        Kernel = a['Kernel']\n",
    "        \n",
    "        values = (name, Version , Install,Owner,Kernel )\n",
    "        \n",
    "        cur.execute(sql_statement,values)\n",
    "    cur.close()\n",
    "    conn.commit()\n",
    "    print('Done')\n",
    " \n",
    "\n",
    "load_JSON_to_MYSQL()"
   ]
  },
  {
   "cell_type": "code",
   "execution_count": 61,
   "metadata": {},
   "outputs": [
    {
     "data": {
      "text/html": [
       "<div>\n",
       "<style scoped>\n",
       "    .dataframe tbody tr th:only-of-type {\n",
       "        vertical-align: middle;\n",
       "    }\n",
       "\n",
       "    .dataframe tbody tr th {\n",
       "        vertical-align: top;\n",
       "    }\n",
       "\n",
       "    .dataframe thead th {\n",
       "        text-align: right;\n",
       "    }\n",
       "</style>\n",
       "<table border=\"1\" class=\"dataframe\">\n",
       "  <thead>\n",
       "    <tr style=\"text-align: right;\">\n",
       "      <th></th>\n",
       "      <th>id</th>\n",
       "      <th>name</th>\n",
       "      <th>Version</th>\n",
       "      <th>Install</th>\n",
       "      <th>Owner</th>\n",
       "      <th>Kernel</th>\n",
       "    </tr>\n",
       "  </thead>\n",
       "  <tbody>\n",
       "    <tr>\n",
       "      <th>0</th>\n",
       "      <td>1</td>\n",
       "      <td>Debian</td>\n",
       "      <td>9</td>\n",
       "      <td>apt</td>\n",
       "      <td>SPI</td>\n",
       "      <td>4.9</td>\n",
       "    </tr>\n",
       "    <tr>\n",
       "      <th>1</th>\n",
       "      <td>2</td>\n",
       "      <td>Ubuntu</td>\n",
       "      <td>17.10</td>\n",
       "      <td>apt</td>\n",
       "      <td>Canonical</td>\n",
       "      <td>4.13</td>\n",
       "    </tr>\n",
       "    <tr>\n",
       "      <th>2</th>\n",
       "      <td>3</td>\n",
       "      <td>Fedora</td>\n",
       "      <td>26</td>\n",
       "      <td>dnf</td>\n",
       "      <td>Red Hat</td>\n",
       "      <td>4.13</td>\n",
       "    </tr>\n",
       "    <tr>\n",
       "      <th>3</th>\n",
       "      <td>4</td>\n",
       "      <td>CentOS</td>\n",
       "      <td>7</td>\n",
       "      <td>yum</td>\n",
       "      <td>Red Hat</td>\n",
       "      <td>3.10</td>\n",
       "    </tr>\n",
       "    <tr>\n",
       "      <th>4</th>\n",
       "      <td>5</td>\n",
       "      <td>OpenSUSE</td>\n",
       "      <td>42.3</td>\n",
       "      <td>zypper</td>\n",
       "      <td>Novell</td>\n",
       "      <td>4.4</td>\n",
       "    </tr>\n",
       "  </tbody>\n",
       "</table>\n",
       "</div>"
      ],
      "text/plain": [
       "   id      name Version Install      Owner Kernel\n",
       "0   1    Debian       9     apt        SPI    4.9\n",
       "1   2    Ubuntu   17.10     apt  Canonical   4.13\n",
       "2   3    Fedora      26     dnf    Red Hat   4.13\n",
       "3   4    CentOS       7     yum    Red Hat   3.10\n",
       "4   5  OpenSUSE    42.3  zypper     Novell    4.4"
      ]
     },
     "execution_count": 61,
     "metadata": {},
     "output_type": "execute_result"
    }
   ],
   "source": [
    "#read Json data from mysql using python\n",
    "def read_JSONData_from_MYSQL():\n",
    "\n",
    "    #make connection to database\n",
    "    cur, conn = connect_to_mysql()\n",
    "    #select database\n",
    "    conn.connect(database=\"dawit_module_2\")\n",
    "    #select all rows from the xmldata database\n",
    "    select_statment = \"\"\" SELECT * FROM dawit_module_2.jsonfile;\"\"\"\n",
    "    df =pd.read_sql(select_statment, con=conn)\n",
    "    \n",
    "    return df\n",
    "#read the top 5 of the xml data\n",
    "read_JSONData_from_MYSQL().head()"
   ]
  },
  {
   "cell_type": "code",
   "execution_count": null,
   "metadata": {},
   "outputs": [],
   "source": []
  },
  {
   "cell_type": "code",
   "execution_count": null,
   "metadata": {},
   "outputs": [],
   "source": []
  }
 ],
 "metadata": {
  "kernelspec": {
   "display_name": "Python 3",
   "language": "python",
   "name": "python3"
  },
  "language_info": {
   "codemirror_mode": {
    "name": "ipython",
    "version": 3
   },
   "file_extension": ".py",
   "mimetype": "text/x-python",
   "name": "python",
   "nbconvert_exporter": "python",
   "pygments_lexer": "ipython3",
   "version": "3.7.1"
  }
 },
 "nbformat": 4,
 "nbformat_minor": 2
}
